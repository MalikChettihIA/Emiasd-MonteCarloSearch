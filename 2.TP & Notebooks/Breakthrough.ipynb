{
 "cells": [
  {
   "cell_type": "code",
   "execution_count": null,
   "id": "nfwiu16oPV-M",
   "metadata": {
    "id": "nfwiu16oPV-M"
   },
   "outputs": [],
   "source": [
    "import numpy as np\n",
    "from copy import deepcopy\n",
    "import matplotlib.pyplot as plt\n",
    "from matplotlib import colors\n",
    "from math import sqrt\n",
    "from math import log"
   ]
  },
  {
   "cell_type": "markdown",
   "id": "2f4d4a95",
   "metadata": {
    "id": "2f4d4a95"
   },
   "source": [
    "# Move class for Breakthrough"
   ]
  },
  {
   "cell_type": "code",
   "execution_count": null,
   "id": "f140c386",
   "metadata": {
    "id": "f140c386"
   },
   "outputs": [],
   "source": [
    "class Move(object):\n",
    "    def __init__(self, color, x1, y1, x2, y2):\n",
    "        self.color = color\n",
    "        self.x1 = x1\n",
    "        self.y1 = y1\n",
    "        self.x2 = x2\n",
    "        self.y2 = y2\n",
    "        \n",
    "    def valid (self, board):\n",
    "        if self.x2 >= Dx or self.y2 >= Dy or self.x2 < 0 or self.y2 < 0:\n",
    "            return False\n",
    "        if self.color == White:\n",
    "            if self.x2 != self.x1 + 1:\n",
    "                return False\n",
    "            if board.board [self.x2] [self.y2] == Black:\n",
    "                if self.y2 == self.y1 + 1 or self.y2 == self.y1 - 1:\n",
    "                    return True\n",
    "                return False\n",
    "            elif board.board [self.x2] [self.y2] == Empty:\n",
    "                if self.y2 == self.y1 + 1 or self.y2 == self.y1 - 1 or self.y2 == self.y1:\n",
    "                    return True\n",
    "                return False\n",
    "        elif self.color == Black:\n",
    "            if self.x2 != self.x1 - 1:\n",
    "                return False\n",
    "            if board.board [self.x2] [self.y2] == White:\n",
    "                if self.y2 == self.y1 + 1 or self.y2 == self.y1 - 1:\n",
    "                    return True\n",
    "                return False\n",
    "            elif board.board [self.x2] [self.y2] == Empty:\n",
    "                if self.y2 == self.y1 + 1 or self.y2 == self.y1 - 1 or self.y2 == self.y1:\n",
    "                    return True\n",
    "                return False\n",
    "        return False\n",
    "    \n",
    "    def code (self, board):\n",
    "        direction = 0\n",
    "        if self.y2 > self.y1:\n",
    "            if board.board [self.x2] [self.y2] == Empty:\n",
    "                direction = 1\n",
    "            else: \n",
    "                direction = 2\n",
    "        if self.y2 < self.y1:\n",
    "            if board.board [self.x2] [self.y2] == Empty:\n",
    "                direction = 3\n",
    "            else:\n",
    "                direction = 4\n",
    "        if self.color == White:\n",
    "            return 5 * (Dy * self.x1 + self.y1) + direction\n",
    "        else:\n",
    "            return 5 * Dx * Dy + 5 * (Dy * self.x1 + self.y1) + direction\n",
    "\n",
    "\n",
    "        "
   ]
  },
  {
   "cell_type": "markdown",
   "id": "fd9d3570",
   "metadata": {
    "id": "fd9d3570"
   },
   "source": [
    "# Board class to play Breakthrough 5x5"
   ]
  },
  {
   "cell_type": "code",
   "execution_count": null,
   "id": "ad1bd5c6",
   "metadata": {
    "id": "ad1bd5c6"
   },
   "outputs": [],
   "source": [
    "import random\n",
    "\n",
    "Dx = 5\n",
    "Dy = 5\n",
    "Empty = 0\n",
    "White = 1\n",
    "Black = 2\n",
    "\n",
    "class Board(object):\n",
    "    def __init__(self):\n",
    "        self.h = 0\n",
    "        self.turn = White\n",
    "        self.board = np.zeros ((Dx, Dy))\n",
    "        for i in range (0, 2):\n",
    "            for j in range (0, Dy):\n",
    "                self.board [i] [j] = White\n",
    "        for i in range (Dx - 2, Dx):\n",
    "            for j in range (0, Dy):\n",
    "                self.board [i] [j] = Black\n",
    "    \n",
    "    def legalMoves(self):\n",
    "        moves = []\n",
    "        for i in range (0, Dx):\n",
    "            for j in range (0, Dy):\n",
    "                if self.board [i] [j] == self.turn:\n",
    "                    for k in [-1, 0, 1]:\n",
    "                        for l in [-1, 0, 1]:\n",
    "                            m = Move (self.turn, i, j, i + k, j + l)\n",
    "                            if m.valid (self):\n",
    "                                moves.append (m)\n",
    "        return moves\n",
    "    \n",
    "    def score (self):\n",
    "        for i in range (0, Dy):\n",
    "            if (self.board [Dx - 1] [i] == White):\n",
    "                return 1.0\n",
    "            elif (self.board [0] [i] == Black):\n",
    "                return 0.0\n",
    "        l = self.legalMoves ()\n",
    "        if len (l) == 0:\n",
    "            if self.turn == Black:\n",
    "                return 1.0\n",
    "            else:\n",
    "                return 0.0\n",
    "        return 0.5\n",
    "\n",
    "    def terminal (self):\n",
    "        if self.score () == 0.5:\n",
    "            return False\n",
    "        return True\n",
    "    \n",
    "    def play (self, move):\n",
    "        self.board [move.x1] [move.y1] = Empty\n",
    "        self.board [move.x2] [move.y2] = move.color\n",
    "        if (self.turn == White):\n",
    "            self.turn = Black\n",
    "        else:\n",
    "            self.turn = White\n",
    "\n",
    "    def playout (self):\n",
    "        while (True):\n",
    "            moves = self.legalMoves ()\n",
    "            if self.terminal ():\n",
    "                return self.score ()\n",
    "            n = random.randint (0, len (moves) - 1)\n",
    "            self.play (moves [n])\n",
    "\n",
    "    def print(self):\n",
    "        print(\"   1 2 3 4 5\")\n",
    "        for i in range(Dy):\n",
    "            print(\"{} |\".format(i + 1), end=\"\")\n",
    "            for j in range(Dx):\n",
    "                if self.board [i] [j] == Black:\n",
    "                    print(\"\\u265F\", end=\"\")\n",
    "                elif self.board [i] [j] == White:\n",
    "                    print(\"\\u2659\", end=\"\")\n",
    "                else:\n",
    "                    print(\" \", end=\"\")\n",
    "                if j < Dx:\n",
    "                    print(\"|\", end=\"\")\n",
    "\n",
    "            if i < Dy:\n",
    "                print()        \n"
   ]
  },
  {
   "cell_type": "markdown",
   "id": "931a826d",
   "metadata": {
    "id": "931a826d"
   },
   "source": [
    "# Flat Monte Carlo"
   ]
  },
  {
   "cell_type": "code",
   "execution_count": null,
   "id": "f9882084",
   "metadata": {
    "id": "f9882084"
   },
   "outputs": [],
   "source": [
    "import copy\n",
    "def flat (board, n):\n",
    "    moves = board.legalMoves ()\n",
    "    bestScore = 0\n",
    "    bestMove = 0\n",
    "    for m in range (len(moves)):\n",
    "        sum = 0\n",
    "        for i in range (n // len (moves)):\n",
    "            b = copy.deepcopy (board)\n",
    "            b.play (moves [m])\n",
    "            r = b.playout ()\n",
    "            if board.turn == Black:\n",
    "                r = 1 - r\n",
    "            sum = sum + r\n",
    "        if sum > bestScore:\n",
    "            bestScore = sum\n",
    "            bestMove = m\n",
    "    return moves [bestMove]"
   ]
  },
  {
   "cell_type": "code",
   "execution_count": null,
   "id": "zwlQ2NB4PUAR",
   "metadata": {
    "colab": {
     "base_uri": "https://localhost:8080/",
     "height": 504
    },
    "id": "zwlQ2NB4PUAR",
    "outputId": "1cf798a1-9b03-4992-87ea-7acb7958f83a"
   },
   "outputs": [],
   "source": []
  },
  {
   "cell_type": "markdown",
   "id": "32f5d367",
   "metadata": {
    "id": "32f5d367"
   },
   "source": [
    "# UCB"
   ]
  },
  {
   "cell_type": "code",
   "execution_count": null,
   "id": "cdebeb48",
   "metadata": {
    "id": "cdebeb48"
   },
   "outputs": [],
   "source": [
    "def UCB (board, n):\n",
    "    moves = board.legalMoves ()\n",
    "    sumScores = [0.0 for x in range (len (moves))]\n",
    "    nbVisits = [0 for x in range (len(moves))]\n",
    "    for i in range (n):\n",
    "        bestScore = 0\n",
    "        bestMove = 0\n",
    "        for m in range (len(moves)):\n",
    "            score = 1000000\n",
    "            if nbVisits [m] > 0:\n",
    "                 score = sumScores [m] / nbVisits [m] + 0.4 * math.sqrt (math.log (i) / nbVisits [m])\n",
    "            if score > bestScore:\n",
    "                bestScore = score\n",
    "                bestMove = m\n",
    "        b = copy.deepcopy (board)\n",
    "        b.play (moves [bestMove])\n",
    "        r = b.playout ()\n",
    "        if board.turn == Black:\n",
    "            r = 1.0 - r\n",
    "        sumScores [bestMove] += r\n",
    "        nbVisits [bestMove] += 1\n",
    "    bestNbVisits = 0\n",
    "    bestMove = 0\n",
    "    for m in range (len(moves)):\n",
    "        if nbVisits [m] > bestNbVisits:\n",
    "            bestNbVisits = nbVisits [m]\n",
    "            bestMove = m\n",
    "    return moves [bestMove]"
   ]
  },
  {
   "cell_type": "code",
   "execution_count": null,
   "id": "icrwL5M0b__q",
   "metadata": {
    "colab": {
     "base_uri": "https://localhost:8080/",
     "height": 504
    },
    "id": "icrwL5M0b__q",
    "outputId": "b160a369-16f7-4f27-bd7c-c0f7e26619cd"
   },
   "outputs": [],
   "source": []
  },
  {
   "cell_type": "markdown",
   "id": "0614d60e",
   "metadata": {
    "id": "0614d60e"
   },
   "source": [
    "# Board class with hashcode"
   ]
  },
  {
   "cell_type": "code",
   "execution_count": null,
   "id": "fce070db",
   "metadata": {
    "id": "fce070db"
   },
   "outputs": [],
   "source": [
    "import random\n",
    "\n",
    "Dx = 5\n",
    "Dy = 5\n",
    "Empty = 0\n",
    "White = 1\n",
    "Black = 2\n",
    "\n",
    "hashTable = []\n",
    "for k in range (3):\n",
    "    l = []\n",
    "    for i in range (Dx):\n",
    "        l1 = []\n",
    "        for j in range (Dy):\n",
    "            l1.append (random.randint (0, 2 ** 64))\n",
    "        l.append (l1)\n",
    "    hashTable.append (l)\n",
    "hashTurn = random.randint (0, 2 ** 64)\n",
    "\n",
    "class Board(object):\n",
    "    def __init__(self):\n",
    "        self.h = 0\n",
    "        self.turn = White\n",
    "        self.board = np.zeros ((Dx, Dy))\n",
    "        for i in range (0, 2):\n",
    "            for j in range (0, Dy):\n",
    "                self.board [i] [j] = White\n",
    "        for i in range (Dx - 2, Dx):\n",
    "            for j in range (0, Dy):\n",
    "                self.board [i] [j] = Black\n",
    "    \n",
    "    def legalMoves(self):\n",
    "        moves = []\n",
    "        for i in range (0, Dx):\n",
    "            for j in range (0, Dy):\n",
    "                if self.board [i] [j] == self.turn:\n",
    "                    for k in [-1, 0, 1]:\n",
    "                        for l in [-1, 0, 1]:\n",
    "                            m = Move (self.turn, i, j, i + k, j + l)\n",
    "                            if m.valid (self):\n",
    "                                moves.append (m)\n",
    "        return moves\n",
    "    \n",
    "    def score(self):\n",
    "        for i in range (0, Dy):\n",
    "            if (self.board [Dx - 1] [i] == White):\n",
    "                return 1.0\n",
    "            elif (self.board [0] [i] == Black):\n",
    "                return 0.0\n",
    "        l = self.legalMoves ()\n",
    "        if len (l) == 0:\n",
    "            if self.turn == Black:\n",
    "                return 1.0\n",
    "            else:\n",
    "                return 0.0\n",
    "        return 0.5\n",
    "\n",
    "    def terminal(self):\n",
    "        if self.score () == 0.5:\n",
    "            return False\n",
    "        return True\n",
    "    \n",
    "    def playout(self):\n",
    "        while (True):\n",
    "            moves = self.legalMoves ()\n",
    "            if self.terminal ():\n",
    "                return self.score ()\n",
    "            n = random.randint (0, len (moves) - 1)\n",
    "            self.play (moves [n])\n",
    "            \n",
    "    def play(self, move):\n",
    "        col = int (self.board [move.x2] [move.y2])\n",
    "        if col != Empty:\n",
    "            self.h = self.h ^ hashTable [col] [move.x2] [move.y2]\n",
    "        self.h = self.h ^ hashTable [move.color] [move.x2] [move.y2]\n",
    "        self.h = self.h ^ hashTable [move.color] [move.x1] [move.y1]\n",
    "        self.h = self.h ^ hashTurn\n",
    "        self.board [move.x2] [move.y2] = move.color\n",
    "        self.board [move.x1] [move.y1] = Empty\n",
    "        if (move.color == White):\n",
    "            self.turn = Black\n",
    "        else:\n",
    "            self.turn = White\n",
    "            \n",
    "    def print(self):\n",
    "        print(\"   1 2 3 4 5\")\n",
    "        for i in range(Dy):\n",
    "            print(\"{} |\".format(i + 1), end=\"\")\n",
    "            for j in range(Dx):\n",
    "                if self.board [i] [j] == Black:\n",
    "                    print(\"\\u265F\", end=\"\")\n",
    "                elif self.board [i] [j] == White:\n",
    "                    print(\"\\u2659\", end=\"\")\n",
    "                else:\n",
    "                    print(\" \", end=\"\")\n",
    "                if j < Dx:\n",
    "                    print(\"|\", end=\"\")\n",
    "\n",
    "            if i < Dy:\n",
    "                print()\n"
   ]
  },
  {
   "cell_type": "markdown",
   "id": "e8f71076",
   "metadata": {
    "id": "e8f71076"
   },
   "source": [
    "# Transposition Table"
   ]
  },
  {
   "cell_type": "code",
   "execution_count": null,
   "id": "68e409ec",
   "metadata": {
    "id": "68e409ec"
   },
   "outputs": [],
   "source": [
    "MaxLegalMoves = 6 * Dx\n",
    "Table = {}\n",
    "\n",
    "def add (board):\n",
    "    nplayouts = [0.0 for x in range (MaxLegalMoves)]\n",
    "    nwins = [0.0 for x in range (MaxLegalMoves)]\n",
    "    Table [board.h] = [0, nplayouts, nwins]\n",
    "\n",
    "def look (board):\n",
    "    return Table.get (board.h, None)\n"
   ]
  },
  {
   "cell_type": "markdown",
   "id": "ac3799f5",
   "metadata": {
    "id": "ac3799f5"
   },
   "source": [
    "# UCT"
   ]
  },
  {
   "cell_type": "code",
   "execution_count": null,
   "id": "4f52895b",
   "metadata": {
    "id": "4f52895b"
   },
   "outputs": [],
   "source": [
    "def UCT (board):\n",
    "    if board.terminal ():\n",
    "        return board.score ()\n",
    "    t = look (board)\n",
    "    if t != None:\n",
    "        bestValue = 0\n",
    "        best = 0\n",
    "        moves = board.legalMoves ()\n",
    "        for i in range (0, len (moves)):\n",
    "            val = 1000000.0\n",
    "            n = t [0]\n",
    "            ni = t [1] [i]\n",
    "            wi = t [2] [i]\n",
    "            if ni > 0:\n",
    "                Q = wi / ni\n",
    "                if board.turn == Black:\n",
    "                    Q = 1 - Q\n",
    "                val = Q + 0.4 * sqrt (log (n) / ni)\n",
    "            if val > bestValue:\n",
    "                bestValue = val\n",
    "                best = i\n",
    "        board.play (moves [best])\n",
    "        res = UCT (board)\n",
    "        t [0] += 1\n",
    "        t [1] [best] += 1\n",
    "        t [2] [best] += res\n",
    "        return res\n",
    "    else:\n",
    "        add (board)\n",
    "        return board.playout ()"
   ]
  },
  {
   "cell_type": "code",
   "execution_count": null,
   "id": "MV_fSzaboF08",
   "metadata": {
    "id": "MV_fSzaboF08"
   },
   "outputs": [],
   "source": [
    "def BestMoveUCT (board, n):\n",
    "    global Table\n",
    "    Table = {}\n",
    "    for i in range (n):\n",
    "        b1 = copy.deepcopy (board)\n",
    "        res = UCT (b1)\n",
    "    t = look (board)\n",
    "    moves = board.legalMoves ()\n",
    "    best = moves [0]\n",
    "    bestValue = t [1] [0]\n",
    "    for i in range (1, len(moves)):\n",
    "        if (t [1] [i] > bestValue):\n",
    "            bestValue = t [1] [i]\n",
    "            best = moves [i]\n",
    "    return best"
   ]
  },
  {
   "cell_type": "markdown",
   "id": "71d9fe12",
   "metadata": {
    "id": "71d9fe12"
   },
   "source": [
    "# Tournament between Flat and UCT"
   ]
  },
  {
   "cell_type": "code",
   "execution_count": null,
   "id": "df6c26d8",
   "metadata": {
    "id": "df6c26d8"
   },
   "outputs": [],
   "source": [
    "def game ():\n",
    "    b = Board ()\n",
    "    while not b.terminal ():\n",
    "        m = flat (b, 1000)\n",
    "        b.play (m)\n",
    "        #b.print ()\n",
    "        if not b.terminal ():\n",
    "            m = BestMoveUCT (b, 1000)\n",
    "            b.play (m)\n",
    "            #b.print ()\n",
    "    b.print ()\n",
    "    return b.score ()\n",
    "\n",
    "s = 0\n",
    "for i in range (10):\n",
    "    s += game ()\n",
    "    print (s)\n",
    "        "
   ]
  },
  {
   "cell_type": "markdown",
   "id": "7f0f797b",
   "metadata": {
    "colab": {
     "base_uri": "https://localhost:8080/"
    },
    "id": "mxgrVZaUpl1L",
    "outputId": "3820bc9f-42aa-42d5-8720-d7c0bdac311f"
   },
   "source": [
    "# RAVE\n",
    " "
   ]
  },
  {
   "cell_type": "code",
   "execution_count": null,
   "id": "6101f24f",
   "metadata": {},
   "outputs": [],
   "source": [
    "def playoutAMAF (board, played):\n",
    "    while (True):\n",
    "        moves = board.legalMoves ()\n",
    "        if len (moves) == 0 or board.terminal ():\n",
    "            return board.score ()\n",
    "        n = random.randint (0, len (moves) - 1)\n",
    "        played.append (moves [n].code (board))\n",
    "        board.play (moves [n])\n",
    "\n",
    "MaxCodeLegalMoves = 2 * Dx * Dy * 5\n",
    "\n",
    "def addAMAF (board):\n",
    "    nplayouts = [0.0 for x in range (MaxLegalMoves)]\n",
    "    nwins = [0.0 for x in range (MaxLegalMoves)]\n",
    "    nplayoutsAMAF = [0.0 for x in range (MaxCodeLegalMoves)]\n",
    "    nwinsAMAF = [0.0 for x in range (MaxCodeLegalMoves)]\n",
    "    Table [board.h] = [0, nplayouts, nwins, nplayoutsAMAF, nwinsAMAF]\n",
    "\n",
    "def updateAMAF (t, played, res):\n",
    "    for i in range (len (played)):\n",
    "        if played [:i].count (played [i]) == 0:\n",
    "            t [3] [played [i]] += 1\n",
    "            t [4] [played [i]] += res\n"
   ]
  },
  {
   "cell_type": "code",
   "execution_count": null,
   "id": "a5976b2a",
   "metadata": {},
   "outputs": [],
   "source": [
    "def RAVE (board, played):\n",
    "    if (board.terminal ()):\n",
    "        return board.score ()\n",
    "    t = look (board)\n",
    "    if t != None:\n",
    "        bestValue = 0\n",
    "        best = 0\n",
    "        moves = board.legalMoves ()\n",
    "        bestcode = moves [0].code (board)\n",
    "        for i in range (0, len (moves)):\n",
    "            val = 1000000.0\n",
    "            code = moves [i].code (board)\n",
    "            if t [3] [code] > 0:\n",
    "                beta = t [3] [code] / (t [1] [i] + t [3] [code] + 1e-5 * t [1] [i] * t [3] [code])\n",
    "                Q = 1\n",
    "                if t [1] [i] > 0:\n",
    "                    Q = t [2] [i] / t [1] [i]\n",
    "                    if board.turn == Black:\n",
    "                        Q = 1 - Q\n",
    "                AMAF = t [4] [code] / t [3] [code]\n",
    "                if board.turn == Black:\n",
    "                    AMAF = 1 - AMAF\n",
    "                val = (1.0 - beta) * Q + beta * AMAF\n",
    "            if val > bestValue:\n",
    "                bestValue = val\n",
    "                best = i\n",
    "                bestcode = code\n",
    "        board.play (moves [best])\n",
    "        played.append (bestcode)\n",
    "        res = RAVE (board, played)\n",
    "        t [0] += 1\n",
    "        t [1] [best] += 1\n",
    "        t [2] [best] += res\n",
    "        updateAMAF (t, played, res)\n",
    "        return res\n",
    "    else:\n",
    "        addAMAF (board)\n",
    "        return playoutAMAF (board, played)"
   ]
  },
  {
   "cell_type": "code",
   "execution_count": null,
   "id": "cf23e6af",
   "metadata": {},
   "outputs": [],
   "source": [
    "def BestMoveRAVE (board, n):\n",
    "    global Table\n",
    "    Table = {}\n",
    "    for i in range (n):\n",
    "        b1 = copy.deepcopy (board)\n",
    "        res = RAVE (b1, [])\n",
    "    t = look (board)\n",
    "    moves = board.legalMoves ()\n",
    "    best = moves [0]\n",
    "    bestValue = t [1] [0]\n",
    "    for i in range (1, len(moves)):\n",
    "        if (t [1] [i] > bestValue):\n",
    "            bestValue = t [1] [i]\n",
    "            best = moves [i]\n",
    "    return best"
   ]
  },
  {
   "cell_type": "code",
   "execution_count": null,
   "id": "614d7ee8",
   "metadata": {},
   "outputs": [],
   "source": [
    "def gameRAVE ():\n",
    "    b = Board ()\n",
    "    while not b.terminal ():\n",
    "        m = flat (b, 1000)\n",
    "        b.play (m)\n",
    "        #b.print ()\n",
    "        if not b.terminal ():\n",
    "            m = BestMoveRAVE (b, 1000)\n",
    "            b.play (m)\n",
    "            #b.print ()\n",
    "    b.print ()\n",
    "    return b.score ()\n",
    "\n",
    "s = 0\n",
    "for i in range (10):\n",
    "    s += gameRAVE ()\n",
    "    print (s)"
   ]
  },
  {
   "cell_type": "markdown",
   "id": "652e81d8",
   "metadata": {},
   "source": [
    "# GRAVE"
   ]
  },
  {
   "cell_type": "code",
   "execution_count": null,
   "id": "6578e36e",
   "metadata": {},
   "outputs": [],
   "source": [
    "def GRAVE (board, played, tref):\n",
    "    if (board.terminal ()):\n",
    "        return board.score ()\n",
    "    t = look (board)\n",
    "    if t != None:\n",
    "        tr = tref\n",
    "        if t [0] > 50:\n",
    "            tr = t\n",
    "        bestValue = 0\n",
    "        best = 0\n",
    "        moves = board.legalMoves ()\n",
    "        bestcode = moves [0].code (board)\n",
    "        for i in range (0, len (moves)):\n",
    "            val = 1000000.0\n",
    "            code = moves [i].code (board)\n",
    "            if tr [3] [code] > 0:\n",
    "                beta = tr [3] [code] / (t [1] [i] + tr [3] [code] + 1e-5 * t [1] [i] * tr [3] [code])\n",
    "                Q = 1\n",
    "                if t [1] [i] > 0:\n",
    "                    Q = t [2] [i] / t [1] [i]\n",
    "                    if board.turn == Black:\n",
    "                        Q = 1 - Q\n",
    "\n",
    "                AMAF = tr [4] [code] / tr [3] [code]\n",
    "                if board.turn == Black:\n",
    "                    AMAF = 1 - AMAF\n",
    "                val = (1.0 - beta) * Q + beta * AMAF\n",
    "            if val > bestValue:\n",
    "                bestValue = val\n",
    "                best = i\n",
    "                bestcode = code\n",
    "        board.play (moves [best])\n",
    "        played.append (bestcode)\n",
    "        res = GRAVE (board, played, tr)\n",
    "        t [0] += 1\n",
    "        t [1] [best] += 1\n",
    "        t [2] [best] += res\n",
    "        updateAMAF (t, played, res)\n",
    "        return res\n",
    "    else:\n",
    "        addAMAF (board)\n",
    "        return playoutAMAF (board, played)"
   ]
  },
  {
   "cell_type": "code",
   "execution_count": null,
   "id": "11cca4d5",
   "metadata": {},
   "outputs": [],
   "source": [
    "def BestMoveGRAVE (board, n):\n",
    "    global Table\n",
    "    Table = {}\n",
    "    addAMAF (board)\n",
    "    for i in range (n):\n",
    "        root = look (board)\n",
    "        b1 = copy.deepcopy (board)\n",
    "        res = GRAVE (b1, [], root)\n",
    "    root = look (board)\n",
    "    moves = board.legalMoves ()\n",
    "    best = moves [0]\n",
    "    bestValue = root [1] [0]\n",
    "    for i in range (1, len(moves)):\n",
    "        if (root [1] [i] > bestValue):\n",
    "            bestValue = root [1] [i]\n",
    "            best = moves [i]\n",
    "    return best"
   ]
  },
  {
   "cell_type": "code",
   "execution_count": null,
   "id": "75f7005d",
   "metadata": {},
   "outputs": [],
   "source": [
    "def gameGRAVE ():\n",
    "    b = Board ()\n",
    "    while not b.terminal ():\n",
    "        m = flat (b, 1000)\n",
    "        b.play (m)\n",
    "        #b.print ()\n",
    "        if not b.terminal ():\n",
    "            m = BestMoveGRAVE (b, 1000)\n",
    "            b.play (m)\n",
    "            #b.print ()\n",
    "    b.print ()\n",
    "    return b.score ()\n",
    "\n",
    "s = 0\n",
    "for i in range (10):\n",
    "    s += gameGRAVE ()\n",
    "    print (s)"
   ]
  },
  {
   "cell_type": "code",
   "execution_count": null,
   "id": "05f97e3e",
   "metadata": {},
   "outputs": [],
   "source": []
  }
 ],
 "metadata": {
  "colab": {
   "provenance": []
  },
  "kernelspec": {
   "display_name": "Python 3 (ipykernel)",
   "language": "python",
   "name": "python3"
  },
  "language_info": {
   "codemirror_mode": {
    "name": "ipython",
    "version": 3
   },
   "file_extension": ".py",
   "mimetype": "text/x-python",
   "name": "python",
   "nbconvert_exporter": "python",
   "pygments_lexer": "ipython3",
   "version": "3.10.12"
  }
 },
 "nbformat": 4,
 "nbformat_minor": 5
}
