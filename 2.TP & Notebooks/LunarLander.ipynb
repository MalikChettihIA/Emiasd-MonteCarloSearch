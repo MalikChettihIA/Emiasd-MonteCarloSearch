{
 "cells": [
  {
   "cell_type": "code",
   "execution_count": 17,
   "id": "ff94787c",
   "metadata": {},
   "outputs": [
    {
     "name": "stdout",
     "output_type": "stream",
     "text": [
      "Defaulting to user installation because normal site-packages is not writeable\n",
      "Requirement already satisfied: gymnasium in /home/cazenave/.local/lib/python3.10/site-packages (1.0.0)\n",
      "Requirement already satisfied: farama-notifications>=0.0.1 in /home/cazenave/.local/lib/python3.10/site-packages (from gymnasium) (0.0.4)\n",
      "Requirement already satisfied: numpy>=1.21.0 in /home/cazenave/.local/lib/python3.10/site-packages (from gymnasium) (1.26.4)\n",
      "Requirement already satisfied: cloudpickle>=1.2.0 in /home/cazenave/.local/lib/python3.10/site-packages (from gymnasium) (3.1.1)\n",
      "Requirement already satisfied: typing-extensions>=4.3.0 in /home/cazenave/.local/lib/python3.10/site-packages (from gymnasium) (4.12.2)\n",
      "Defaulting to user installation because normal site-packages is not writeable\n",
      "Requirement already satisfied: Box2D in /home/cazenave/.local/lib/python3.10/site-packages (2.3.10)\n",
      "Defaulting to user installation because normal site-packages is not writeable\n",
      "Requirement already satisfied: pygame in /home/cazenave/.local/lib/python3.10/site-packages (2.6.1)\n"
     ]
    }
   ],
   "source": [
    "!pip install gymnasium\n",
    "!pip install Box2D\n",
    "!pip install pygame"
   ]
  },
  {
   "cell_type": "code",
   "execution_count": 19,
   "id": "02e2b062",
   "metadata": {},
   "outputs": [
    {
     "name": "stdout",
     "output_type": "stream",
     "text": [
      "-169.9297435741629 -147.03287504250082 -156.75433428077457 -78.43962672411666 -73.1572653887952 -186.86578466570035 -135.48494846951874 -154.16667110273002 -132.43913743283002 -177.70647969610133 \n",
      "[1, 3, 1, 1, 0, 3, 3, 0, 1, 1, 2, 2, 3, 2, 1, 2, 2, 0, 3, 3, 0, 0, 3, 3, 2, 0, 0, 2, 3, 0, 3, 2, 1, 2, 1, 0, 2, 2, 0, 3, 2, 3, 2, 0, 1, 2, 0, 0, 1, 0, 3, 2, 2, 1, 3, 2, 3, 2, 1, 0, 2, 2, 2, 2, 3, 0, 0, 0, 3, 2]\n",
      "-73.1572653887952\n"
     ]
    }
   ],
   "source": [
    "import gymnasium as gym\n",
    "import sys\n",
    "\n",
    "# Initialise the environment\n",
    "env = gym.make(\"LunarLander-v3\", render_mode=\"human\")\n",
    "\n",
    "# Play 100 playouts and keep the best\n",
    "bestSumReward = -1000\n",
    "bestListActions = []\n",
    "for i in range (10):\n",
    "    observation, info = env.reset()\n",
    "    terminated = False\n",
    "    sumReward = 0\n",
    "    listActions = []\n",
    "    while not terminated:\n",
    "        # this is where you would insert your policy\n",
    "        action = env.action_space.sample()\n",
    "        listActions.append (action)\n",
    "\n",
    "        # step (transition) through the environment with the action\n",
    "        # receiving the next observation, reward and if the episode has terminated or truncated\n",
    "        observation, reward, terminated, truncated, info = env.step(action)\n",
    "        sumReward += reward\n",
    "    sys.stdout.write (str (sumReward) + ' ')\n",
    "    if sumReward > bestSumReward:\n",
    "        bestSumReward = sumReward\n",
    "        bestListActions = listActions\n",
    "print ()\n",
    "print (bestListActions)\n",
    "print (bestSumReward)\n",
    "env.close()"
   ]
  },
  {
   "cell_type": "code",
   "execution_count": null,
   "id": "a205b2f5",
   "metadata": {},
   "outputs": [],
   "source": []
  }
 ],
 "metadata": {
  "kernelspec": {
   "display_name": "Python 3 (ipykernel)",
   "language": "python",
   "name": "python3"
  },
  "language_info": {
   "codemirror_mode": {
    "name": "ipython",
    "version": 3
   },
   "file_extension": ".py",
   "mimetype": "text/x-python",
   "name": "python",
   "nbconvert_exporter": "python",
   "pygments_lexer": "ipython3",
   "version": "3.10.12"
  }
 },
 "nbformat": 4,
 "nbformat_minor": 5
}
