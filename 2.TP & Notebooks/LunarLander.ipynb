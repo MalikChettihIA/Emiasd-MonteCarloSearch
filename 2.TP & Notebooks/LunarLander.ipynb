{
 "cells": [
  {
   "cell_type": "code",
   "execution_count": 1,
   "id": "ff94787c",
   "metadata": {},
   "outputs": [
    {
     "name": "stdout",
     "output_type": "stream",
     "text": [
      "Requirement already satisfied: gymnasium in /opt/anaconda3/envs/emiasd-deeplearning2-env/lib/python3.9/site-packages (1.1.1)\n",
      "Requirement already satisfied: numpy>=1.21.0 in /opt/anaconda3/envs/emiasd-deeplearning2-env/lib/python3.9/site-packages (from gymnasium) (1.26.4)\n",
      "Requirement already satisfied: cloudpickle>=1.2.0 in /opt/anaconda3/envs/emiasd-deeplearning2-env/lib/python3.9/site-packages (from gymnasium) (3.1.1)\n",
      "Requirement already satisfied: importlib-metadata>=4.8.0 in /opt/anaconda3/envs/emiasd-deeplearning2-env/lib/python3.9/site-packages (from gymnasium) (8.5.0)\n",
      "Requirement already satisfied: typing-extensions>=4.3.0 in /opt/anaconda3/envs/emiasd-deeplearning2-env/lib/python3.9/site-packages (from gymnasium) (4.12.2)\n",
      "Requirement already satisfied: farama-notifications>=0.0.1 in /opt/anaconda3/envs/emiasd-deeplearning2-env/lib/python3.9/site-packages (from gymnasium) (0.0.4)\n",
      "Requirement already satisfied: zipp>=3.20 in /opt/anaconda3/envs/emiasd-deeplearning2-env/lib/python3.9/site-packages (from importlib-metadata>=4.8.0->gymnasium) (3.21.0)\n",
      "Collecting Box2D\n",
      "  Downloading Box2D-2.3.10-cp39-cp39-macosx_11_0_arm64.whl.metadata (573 bytes)\n",
      "Downloading Box2D-2.3.10-cp39-cp39-macosx_11_0_arm64.whl (1.3 MB)\n",
      "\u001b[2K   \u001b[90m━━━━━━━━━━━━━━━━━━━━━━━━━━━━━━━━━━━━━━━━\u001b[0m \u001b[32m1.3/1.3 MB\u001b[0m \u001b[31m8.8 MB/s\u001b[0m eta \u001b[36m0:00:00\u001b[0m\n",
      "\u001b[?25hInstalling collected packages: Box2D\n",
      "Successfully installed Box2D-2.3.10\n",
      "Collecting pygame\n",
      "  Downloading pygame-2.6.1-cp39-cp39-macosx_11_0_arm64.whl.metadata (12 kB)\n",
      "Downloading pygame-2.6.1-cp39-cp39-macosx_11_0_arm64.whl (12.4 MB)\n",
      "\u001b[2K   \u001b[90m━━━━━━━━━━━━━━━━━━━━━━━━━━━━━━━━━━━━━━━━\u001b[0m \u001b[32m12.4/12.4 MB\u001b[0m \u001b[31m13.4 MB/s\u001b[0m eta \u001b[36m0:00:00\u001b[0ma \u001b[36m0:00:01\u001b[0m\n",
      "\u001b[?25hInstalling collected packages: pygame\n",
      "Successfully installed pygame-2.6.1\n"
     ]
    }
   ],
   "source": [
    "!pip install gymnasium\n",
    "!pip install Box2D\n",
    "!pip install pygame"
   ]
  },
  {
   "cell_type": "code",
   "execution_count": 2,
   "id": "02e2b062",
   "metadata": {},
   "outputs": [
    {
     "name": "stdout",
     "output_type": "stream",
     "text": [
      "-198.92708195289865 -231.6485164860023 15.51823472886798 -260.09810744300347 -119.827961911299 -151.16320348463742 -88.3154023856716 -139.21792626218212 -128.03097929644733 -43.65975858944957 \n",
      "[0, 2, 3, 3, 1, 3, 1, 3, 3, 0, 2, 2, 0, 0, 2, 3, 3, 1, 0, 3, 1, 3, 3, 0, 3, 1, 2, 2, 0, 0, 2, 3, 2, 0, 2, 1, 3, 1, 1, 2, 0, 3, 2, 3, 0, 0, 0, 1, 3, 2, 0, 3, 3, 1, 2, 1, 1, 0, 0, 0, 2, 0, 3, 2, 1, 3, 1, 3, 3, 0, 3, 3, 1, 2, 0, 1, 1, 0, 1, 3, 2, 3, 2, 0, 1, 2, 3, 1, 3, 3, 3, 3, 3, 3, 2, 2, 2, 2, 3, 2, 3, 3, 1, 3, 0, 1, 3, 3, 0, 3, 3, 1, 1, 1, 2, 2, 3, 2, 2]\n",
      "15.51823472886798\n"
     ]
    }
   ],
   "source": [
    "import gymnasium as gym\n",
    "import sys\n",
    "\n",
    "# Initialise the environment\n",
    "env = gym.make(\"LunarLander-v3\", render_mode=\"human\")\n",
    "\n",
    "# Play 100 playouts and keep the best\n",
    "bestSumReward = -1000\n",
    "bestListActions = []\n",
    "for i in range (10):\n",
    "    observation, info = env.reset()\n",
    "    terminated = False\n",
    "    sumReward = 0\n",
    "    listActions = []\n",
    "    while not terminated:\n",
    "        # this is where you would insert your policy\n",
    "        action = env.action_space.sample()\n",
    "        listActions.append (action)\n",
    "\n",
    "        # step (transition) through the environment with the action\n",
    "        # receiving the next observation, reward and if the episode has terminated or truncated\n",
    "        observation, reward, terminated, truncated, info = env.step(action)\n",
    "        sumReward += reward\n",
    "    sys.stdout.write (str (sumReward) + ' ')\n",
    "    if sumReward > bestSumReward:\n",
    "        bestSumReward = sumReward\n",
    "        bestListActions = listActions\n",
    "print ()\n",
    "print (bestListActions)\n",
    "print (bestSumReward)\n",
    "env.close()"
   ]
  },
  {
   "cell_type": "code",
   "execution_count": null,
   "id": "a205b2f5",
   "metadata": {},
   "outputs": [],
   "source": []
  }
 ],
 "metadata": {
  "kernelspec": {
   "display_name": "emiasd-deeplearning2-env",
   "language": "python",
   "name": "python3"
  },
  "language_info": {
   "codemirror_mode": {
    "name": "ipython",
    "version": 3
   },
   "file_extension": ".py",
   "mimetype": "text/x-python",
   "name": "python",
   "nbconvert_exporter": "python",
   "pygments_lexer": "ipython3",
   "version": "3.9.21"
  }
 },
 "nbformat": 4,
 "nbformat_minor": 5
}
